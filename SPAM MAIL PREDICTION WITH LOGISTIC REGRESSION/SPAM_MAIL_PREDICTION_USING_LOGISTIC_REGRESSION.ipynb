{
  "nbformat": 4,
  "nbformat_minor": 0,
  "metadata": {
    "colab": {
      "name": "SPAM MAIL PREDICTION USING LOGISTIC REGRESSION.ipynb",
      "provenance": [],
      "collapsed_sections": []
    },
    "kernelspec": {
      "name": "python3",
      "display_name": "Python 3"
    },
    "language_info": {
      "name": "python"
    }
  },
  "cells": [
    {
      "cell_type": "markdown",
      "metadata": {
        "id": "fgHcAFg1ro9p"
      },
      "source": [
        "*IMPORTING THE REQUIRED LIBRARIES*"
      ]
    },
    {
      "cell_type": "code",
      "metadata": {
        "id": "v-coJEesrQPV"
      },
      "source": [
        "import pandas as pd\n",
        "import numpy as np\n",
        "from sklearn.feature_extraction.text import TfidfVectorizer\n",
        "from sklearn.model_selection import train_test_split\n",
        "from sklearn.linear_model import LogisticRegression\n",
        "from sklearn.metrics import accuracy_score\n",
        "from sklearn.preprocessing import LabelEncoder"
      ],
      "execution_count": 25,
      "outputs": []
    },
    {
      "cell_type": "markdown",
      "metadata": {
        "id": "WIkNMl0UxHbB"
      },
      "source": [
        "*PREPROCESSING THE DATA*"
      ]
    },
    {
      "cell_type": "markdown",
      "metadata": {
        "id": "UhiRlxHN7D6q"
      },
      "source": [
        "HERE WE ARE LOADING THE DATASET INTO THE DATAFRAME (df)"
      ]
    },
    {
      "cell_type": "code",
      "metadata": {
        "colab": {
          "base_uri": "https://localhost:8080/",
          "height": 204
        },
        "id": "pqYWKv58rvrT",
        "outputId": "b2f4a336-5df5-4bfe-e29e-839d1b13ec11"
      },
      "source": [
        "df = pd.read_csv(\"/content/mail_data.csv\")\n",
        "df.head()"
      ],
      "execution_count": 44,
      "outputs": [
        {
          "output_type": "execute_result",
          "data": {
            "text/html": [
              "<div>\n",
              "<style scoped>\n",
              "    .dataframe tbody tr th:only-of-type {\n",
              "        vertical-align: middle;\n",
              "    }\n",
              "\n",
              "    .dataframe tbody tr th {\n",
              "        vertical-align: top;\n",
              "    }\n",
              "\n",
              "    .dataframe thead th {\n",
              "        text-align: right;\n",
              "    }\n",
              "</style>\n",
              "<table border=\"1\" class=\"dataframe\">\n",
              "  <thead>\n",
              "    <tr style=\"text-align: right;\">\n",
              "      <th></th>\n",
              "      <th>Category</th>\n",
              "      <th>Message</th>\n",
              "    </tr>\n",
              "  </thead>\n",
              "  <tbody>\n",
              "    <tr>\n",
              "      <th>0</th>\n",
              "      <td>ham</td>\n",
              "      <td>Go until jurong point, crazy.. Available only ...</td>\n",
              "    </tr>\n",
              "    <tr>\n",
              "      <th>1</th>\n",
              "      <td>ham</td>\n",
              "      <td>Ok lar... Joking wif u oni...</td>\n",
              "    </tr>\n",
              "    <tr>\n",
              "      <th>2</th>\n",
              "      <td>spam</td>\n",
              "      <td>Free entry in 2 a wkly comp to win FA Cup fina...</td>\n",
              "    </tr>\n",
              "    <tr>\n",
              "      <th>3</th>\n",
              "      <td>ham</td>\n",
              "      <td>U dun say so early hor... U c already then say...</td>\n",
              "    </tr>\n",
              "    <tr>\n",
              "      <th>4</th>\n",
              "      <td>ham</td>\n",
              "      <td>Nah I don't think he goes to usf, he lives aro...</td>\n",
              "    </tr>\n",
              "  </tbody>\n",
              "</table>\n",
              "</div>"
            ],
            "text/plain": [
              "  Category                                            Message\n",
              "0      ham  Go until jurong point, crazy.. Available only ...\n",
              "1      ham                      Ok lar... Joking wif u oni...\n",
              "2     spam  Free entry in 2 a wkly comp to win FA Cup fina...\n",
              "3      ham  U dun say so early hor... U c already then say...\n",
              "4      ham  Nah I don't think he goes to usf, he lives aro..."
            ]
          },
          "metadata": {},
          "execution_count": 44
        }
      ]
    },
    {
      "cell_type": "code",
      "metadata": {
        "colab": {
          "base_uri": "https://localhost:8080/"
        },
        "id": "GQNad8Furvn4",
        "outputId": "553b905f-316d-4442-ea2a-2d261c0d8300"
      },
      "source": [
        "df.shape"
      ],
      "execution_count": 15,
      "outputs": [
        {
          "output_type": "execute_result",
          "data": {
            "text/plain": [
              "(5572, 2)"
            ]
          },
          "metadata": {},
          "execution_count": 15
        }
      ]
    },
    {
      "cell_type": "code",
      "metadata": {
        "colab": {
          "base_uri": "https://localhost:8080/",
          "height": 173
        },
        "id": "OUOaSPLkrvkc",
        "outputId": "1ea2ae1a-1d0d-4fa6-8e0e-5cfd87dc115c"
      },
      "source": [
        "df.describe()"
      ],
      "execution_count": 16,
      "outputs": [
        {
          "output_type": "execute_result",
          "data": {
            "text/html": [
              "<div>\n",
              "<style scoped>\n",
              "    .dataframe tbody tr th:only-of-type {\n",
              "        vertical-align: middle;\n",
              "    }\n",
              "\n",
              "    .dataframe tbody tr th {\n",
              "        vertical-align: top;\n",
              "    }\n",
              "\n",
              "    .dataframe thead th {\n",
              "        text-align: right;\n",
              "    }\n",
              "</style>\n",
              "<table border=\"1\" class=\"dataframe\">\n",
              "  <thead>\n",
              "    <tr style=\"text-align: right;\">\n",
              "      <th></th>\n",
              "      <th>Category</th>\n",
              "      <th>Message</th>\n",
              "    </tr>\n",
              "  </thead>\n",
              "  <tbody>\n",
              "    <tr>\n",
              "      <th>count</th>\n",
              "      <td>5572</td>\n",
              "      <td>5572</td>\n",
              "    </tr>\n",
              "    <tr>\n",
              "      <th>unique</th>\n",
              "      <td>2</td>\n",
              "      <td>5157</td>\n",
              "    </tr>\n",
              "    <tr>\n",
              "      <th>top</th>\n",
              "      <td>ham</td>\n",
              "      <td>Sorry, I'll call later</td>\n",
              "    </tr>\n",
              "    <tr>\n",
              "      <th>freq</th>\n",
              "      <td>4825</td>\n",
              "      <td>30</td>\n",
              "    </tr>\n",
              "  </tbody>\n",
              "</table>\n",
              "</div>"
            ],
            "text/plain": [
              "       Category                 Message\n",
              "count      5572                    5572\n",
              "unique        2                    5157\n",
              "top         ham  Sorry, I'll call later\n",
              "freq       4825                      30"
            ]
          },
          "metadata": {},
          "execution_count": 16
        }
      ]
    },
    {
      "cell_type": "markdown",
      "metadata": {
        "id": "cwUfwJWOyyUW"
      },
      "source": [
        "LABEL ENCODING"
      ]
    },
    {
      "cell_type": "code",
      "metadata": {
        "id": "bpS2Lo6Irvbn"
      },
      "source": [
        "# HERE WE ARE LABELLING THE  SPAM MAIL AS 0 \n",
        "# HERE WE ARE LABELLING THE HAM MAIL AS 1\n",
        "df.loc[df['Category'] == 'spam','Category',] = 0\n",
        "df.loc[df['Category'] == 'ham','Category',] = 1"
      ],
      "execution_count": 18,
      "outputs": []
    },
    {
      "cell_type": "markdown",
      "metadata": {
        "id": "QTnlifAMzcis"
      },
      "source": [
        "SPAM   -  0\n",
        "\n",
        "HAM    -  1"
      ]
    },
    {
      "cell_type": "code",
      "metadata": {
        "id": "jkmYw3g_rvYj"
      },
      "source": [
        "# SEPARATING THE DATA AS TEXT AND LABEL\n",
        "x = df['Message']\n",
        "y = df['Category']"
      ],
      "execution_count": 22,
      "outputs": []
    },
    {
      "cell_type": "code",
      "metadata": {
        "colab": {
          "base_uri": "https://localhost:8080/"
        },
        "id": "4JS9o8DjrvVQ",
        "outputId": "bac619e9-d410-4e7f-d4ad-d60b323e2686"
      },
      "source": [
        "x"
      ],
      "execution_count": 23,
      "outputs": [
        {
          "output_type": "execute_result",
          "data": {
            "text/plain": [
              "0       Go until jurong point, crazy.. Available only ...\n",
              "1                           Ok lar... Joking wif u oni...\n",
              "2       Free entry in 2 a wkly comp to win FA Cup fina...\n",
              "3       U dun say so early hor... U c already then say...\n",
              "4       Nah I don't think he goes to usf, he lives aro...\n",
              "                              ...                        \n",
              "5567    This is the 2nd time we have tried 2 contact u...\n",
              "5568                 Will ü b going to esplanade fr home?\n",
              "5569    Pity, * was in mood for that. So...any other s...\n",
              "5570    The guy did some bitching but I acted like i'd...\n",
              "5571                           Rofl. Its true to its name\n",
              "Name: Message, Length: 5572, dtype: object"
            ]
          },
          "metadata": {},
          "execution_count": 23
        }
      ]
    },
    {
      "cell_type": "code",
      "metadata": {
        "colab": {
          "base_uri": "https://localhost:8080/"
        },
        "id": "F_-ItEIprvSR",
        "outputId": "09e9da26-7a21-40f1-b5db-16087df90dcc"
      },
      "source": [
        "y"
      ],
      "execution_count": 24,
      "outputs": [
        {
          "output_type": "execute_result",
          "data": {
            "text/plain": [
              "0       1\n",
              "1       1\n",
              "2       0\n",
              "3       1\n",
              "4       1\n",
              "       ..\n",
              "5567    0\n",
              "5568    1\n",
              "5569    1\n",
              "5570    1\n",
              "5571    1\n",
              "Name: Category, Length: 5572, dtype: object"
            ]
          },
          "metadata": {},
          "execution_count": 24
        }
      ]
    },
    {
      "cell_type": "code",
      "metadata": {
        "id": "8HxBTXX3rvP-"
      },
      "source": [
        "# SPLITTING THE DATA INTO TRAIN AND TEST DATA\n",
        "x_train,x_test,y_train,y_test = train_test_split(x,y,test_size=0.2,stratify=y,random_state=1)"
      ],
      "execution_count": 26,
      "outputs": []
    },
    {
      "cell_type": "code",
      "metadata": {
        "colab": {
          "base_uri": "https://localhost:8080/"
        },
        "id": "dUtKI7iS0BLW",
        "outputId": "068a20a4-eb3b-48f9-f651-9ef379810fc4"
      },
      "source": [
        "print(x.shape,x_train.shape,x_test.shape)"
      ],
      "execution_count": 28,
      "outputs": [
        {
          "output_type": "stream",
          "name": "stdout",
          "text": [
            "(5572,) (4457,) (1115,)\n"
          ]
        }
      ]
    },
    {
      "cell_type": "markdown",
      "metadata": {
        "id": "TYKIyysU1tV5"
      },
      "source": [
        "FEATURE EXTRACTION"
      ]
    },
    {
      "cell_type": "code",
      "metadata": {
        "id": "4ajQORHG0BHg"
      },
      "source": [
        "# HERE WE ARE TRANSFORMING THE TEST DATA INTO FEATURE VECTORS THAT CAN BE USED AS INPUT TO THE LOGISTIC REGRESSION\n",
        "\n",
        "feature_extraction = TfidfVectorizer(min_df=1,stop_words='english',lowercase='True')\n",
        "# TfidVectorizer will go through our information and it will give us the score based on the information present in an text\n",
        "# min_df it will say that if the word's value is less than min_diff there we will be ignoring it \n",
        "\n",
        "x_train_features = feature_extraction.fit_transform(x_train)\n",
        "x_test_features = feature_extraction.transform(x_test)\n",
        "\n",
        "# Converting y_train and y_test values as an integers\n",
        "\n",
        "y_train = y_train.astype('int')\n",
        "y_test = y_test.astype('int') "
      ],
      "execution_count": 29,
      "outputs": []
    },
    {
      "cell_type": "code",
      "metadata": {
        "colab": {
          "base_uri": "https://localhost:8080/"
        },
        "id": "lB51KpUp0BEj",
        "outputId": "2b2fd1ed-edb6-493f-faa6-1571343f8fe7"
      },
      "source": [
        "print(x_train)"
      ],
      "execution_count": 30,
      "outputs": [
        {
          "output_type": "stream",
          "name": "stdout",
          "text": [
            "3539    We are pleased to inform that your application...\n",
            "2009                 See the forwarding message for proof\n",
            "5363    I think your mentor is , but not 100 percent s...\n",
            "3665     Huh? 6 also cannot? Then only how many mistakes?\n",
            "3443    Save money on wedding lingerie at www.bridal.p...\n",
            "                              ...                        \n",
            "5360    Hey, iouri gave me your number, I'm wylie, rya...\n",
            "2664    8007 FREE for 1st week! No1 Nokia tone 4 ur mo...\n",
            "3162    Mystery solved! Just opened my email and he's ...\n",
            "1525                        Hi:)cts employee how are you?\n",
            "3914                                    Yeah whatever lol\n",
            "Name: Message, Length: 4457, dtype: object\n"
          ]
        }
      ]
    },
    {
      "cell_type": "code",
      "metadata": {
        "colab": {
          "base_uri": "https://localhost:8080/"
        },
        "id": "U6aIfZs30BBx",
        "outputId": "1e2878de-8b04-4fdb-aa2c-94c7795162f9"
      },
      "source": [
        "print(x_train_features)"
      ],
      "execution_count": 31,
      "outputs": [
        {
          "output_type": "stream",
          "name": "stdout",
          "text": [
            "  (0, 2177)\t0.23309557828846914\n",
            "  (0, 3264)\t0.2631513993394141\n",
            "  (0, 3619)\t0.3488783966153327\n",
            "  (0, 6409)\t0.3326362323256634\n",
            "  (0, 5295)\t0.3326362323256634\n",
            "  (0, 1516)\t0.3488783966153327\n",
            "  (0, 910)\t0.3326362323256634\n",
            "  (0, 1025)\t0.3326362323256634\n",
            "  (0, 3599)\t0.31217352532901926\n",
            "  (0, 5115)\t0.3048700690764884\n",
            "  (1, 5318)\t0.6366191779536516\n",
            "  (1, 4363)\t0.3858585853754368\n",
            "  (1, 2916)\t0.6677044064207481\n",
            "  (2, 6463)\t0.3522847311040471\n",
            "  (2, 5011)\t0.5648129493203621\n",
            "  (2, 260)\t0.3791945214013413\n",
            "  (2, 4356)\t0.5648129493203621\n",
            "  (2, 6675)\t0.3067240579580042\n",
            "  (3, 4425)\t0.7814747758273017\n",
            "  (3, 3477)\t0.6239368355416024\n",
            "  (4, 7233)\t0.30283664176761355\n",
            "  (4, 1525)\t0.2709757410506353\n",
            "  (4, 2232)\t0.23277522691456723\n",
            "  (4, 4600)\t0.22842310336648117\n",
            "  (4, 5849)\t0.2709757410506353\n",
            "  :\t:\n",
            "  (4453, 4685)\t0.3013920827617892\n",
            "  (4453, 7009)\t0.20821674441221627\n",
            "  (4453, 312)\t0.14076796933756813\n",
            "  (4453, 3788)\t0.09911204230079218\n",
            "  (4453, 6904)\t0.11983290605228093\n",
            "  (4453, 7238)\t0.26264651983729037\n",
            "  (4453, 345)\t0.1579300896214047\n",
            "  (4453, 2934)\t0.1115424123678941\n",
            "  (4453, 6589)\t0.1253260553347007\n",
            "  (4453, 6930)\t0.14304305143683857\n",
            "  (4453, 7420)\t0.133889319877971\n",
            "  (4454, 6494)\t0.3920995714841905\n",
            "  (4454, 4824)\t0.3920995714841905\n",
            "  (4454, 6138)\t0.3738452292270028\n",
            "  (4454, 1248)\t0.3738452292270028\n",
            "  (4454, 4569)\t0.3738452292270028\n",
            "  (4454, 5872)\t0.24809291668453956\n",
            "  (4454, 3669)\t0.3044932419819369\n",
            "  (4454, 3788)\t0.16773387606760162\n",
            "  (4454, 2544)\t0.30138713133457384\n",
            "  (4455, 2553)\t0.6587108865789035\n",
            "  (4455, 2093)\t0.6587108865789035\n",
            "  (4455, 3361)\t0.36359309097515835\n",
            "  (4456, 4100)\t0.7180066168826456\n",
            "  (4456, 7458)\t0.6960362764344528\n"
          ]
        }
      ]
    },
    {
      "cell_type": "markdown",
      "metadata": {
        "id": "oTz9C8Dh4qCO"
      },
      "source": [
        "TRAINING THE MODEL\n",
        "\n",
        "\n",
        "\n",
        "> LOGISTIC REGRESSION\n",
        "\n"
      ]
    },
    {
      "cell_type": "code",
      "metadata": {
        "id": "wtWcCXA30A-U"
      },
      "source": [
        "model = LogisticRegression()"
      ],
      "execution_count": 32,
      "outputs": []
    },
    {
      "cell_type": "code",
      "metadata": {
        "colab": {
          "base_uri": "https://localhost:8080/"
        },
        "id": "KSHS5ORc4nWJ",
        "outputId": "3e83936b-9121-45e4-cde4-d65b879ceb2c"
      },
      "source": [
        "# TRAINING THE LOGISTIC REGRESSION MODEL WITH TRAINING DATA\n",
        "model.fit(x_train_features,y_train)"
      ],
      "execution_count": 35,
      "outputs": [
        {
          "output_type": "execute_result",
          "data": {
            "text/plain": [
              "LogisticRegression()"
            ]
          },
          "metadata": {},
          "execution_count": 35
        }
      ]
    },
    {
      "cell_type": "markdown",
      "metadata": {
        "id": "KC1mqQLs5SJH"
      },
      "source": [
        "EVALUATING THE TRAINING MODEL"
      ]
    },
    {
      "cell_type": "code",
      "metadata": {
        "id": "eveUdfW04nSv"
      },
      "source": [
        "# PREDICTION ON TRAINING DATA\n",
        "prediction_on_train_data = model.predict(x_train_features)\n",
        "accuracy_on_training_data = accuracy_score(y_train,prediction_on_train_data)"
      ],
      "execution_count": 38,
      "outputs": []
    },
    {
      "cell_type": "code",
      "metadata": {
        "colab": {
          "base_uri": "https://localhost:8080/"
        },
        "id": "4fjeyEG54nQM",
        "outputId": "e49f34b6-db5a-4a7b-b08e-ec7d9cd1b455"
      },
      "source": [
        "print(\"ACCURACY SCORE ON TRAINING DATA : \",accuracy_on_training_data)"
      ],
      "execution_count": 39,
      "outputs": [
        {
          "output_type": "stream",
          "name": "stdout",
          "text": [
            "ACCURACY SCORE ON TRAINING DATA :  0.9685887368184878\n"
          ]
        }
      ]
    },
    {
      "cell_type": "code",
      "metadata": {
        "id": "TNnhRS1w4nNB"
      },
      "source": [
        "# PREDICTION ON TEST DATA\n",
        "prediction_on_test_data = model.predict(x_test_features)\n",
        "accuracy_on_test_data = accuracy_score(y_test,prediction_on_test_data)"
      ],
      "execution_count": 41,
      "outputs": []
    },
    {
      "cell_type": "code",
      "metadata": {
        "colab": {
          "base_uri": "https://localhost:8080/"
        },
        "id": "iY4jK2aS4nKH",
        "outputId": "f7a348fb-6a68-4826-c97f-18e212d58b1e"
      },
      "source": [
        "print(\"ACCURACY SCORE ON TESTING DATA : \",accuracy_on_test_data)"
      ],
      "execution_count": 42,
      "outputs": [
        {
          "output_type": "stream",
          "name": "stdout",
          "text": [
            "ACCURACY SCORE ON TESTING DATA :  0.9614349775784753\n"
          ]
        }
      ]
    },
    {
      "cell_type": "markdown",
      "metadata": {
        "id": "GPijhn8Z6zVb"
      },
      "source": [
        "MAKING A PREDICTION"
      ]
    },
    {
      "cell_type": "code",
      "metadata": {
        "colab": {
          "base_uri": "https://localhost:8080/"
        },
        "id": "DWnoFouA4nHf",
        "outputId": "5f6aa090-5da6-41d2-aceb-0ab3478ea12a"
      },
      "source": [
        "input_data = [\"YOU HAVE BEEN SELECTED FOR AN INTERVIEW\"]\n",
        "\n",
        "# converting a text into feature_vectors\n",
        "input_data_features = feature_extraction.transform(input_data)\n",
        "\n",
        "#MAKING PREDICTION\n",
        "prediction = model.predict(input_data_features)\n",
        "print(prediction)\n",
        "\n",
        "if(prediction[0] == 1):\n",
        "  print(\"IT IS NOT A SPAM MAIL\")\n",
        "else:\n",
        "  print(\"IT IS A SPAM MAIL\")"
      ],
      "execution_count": 49,
      "outputs": [
        {
          "output_type": "stream",
          "name": "stdout",
          "text": [
            "[1]\n",
            "IT IS NOT A SPAM MAIL\n"
          ]
        }
      ]
    }
  ]
}